{
 "cells": [
  {
   "cell_type": "markdown",
   "metadata": {},
   "source": [
    "# Homework #3\n",
    "\n",
    "Name: Salvatore Zerbo\n",
    "\n",
    "Course: Math 483\n",
    "\n",
    "Date: 05/17/2019"
   ]
  },
  {
   "cell_type": "markdown",
   "metadata": {},
   "source": [
    "# Problem 1"
   ]
  },
  {
   "cell_type": "markdown",
   "metadata": {},
   "source": [
    "## Part 1"
   ]
  },
  {
   "cell_type": "code",
   "execution_count": 14,
   "metadata": {},
   "outputs": [
    {
     "name": "stdout",
     "output_type": "stream",
     "text": [
      "P(X > 3) = 0.00138\n",
      "95% CI = (0.0011499099089832421, 0.0016100900910167577)\n"
     ]
    }
   ],
   "source": [
    "import numpy as np\n",
    "from scipy.stats import sem\n",
    "np.random.seed(30)\n",
    "\n",
    "def h(x):\n",
    "    '''\n",
    "    Takes an array of values and returns 1\n",
    "    for the values that are greater than 3.\n",
    "    '''\n",
    "    \n",
    "    arr = []\n",
    "    for i in range(len(x)):\n",
    "        if x[i] > 3:\n",
    "            arr.append(1)\n",
    "        else:\n",
    "            arr.append(0)\n",
    "            \n",
    "    return np.array(arr)\n",
    "\n",
    "#Initial setup\n",
    "n = int(10E4)\n",
    "\n",
    "#Using n i.i.d. N(0, 1) samples\n",
    "samples = np.random.normal(0, 1, n)\n",
    "correct = h(samples)\n",
    "\n",
    "#Find confidence interval\n",
    "mu = np.mean(correct)\n",
    "stderr = sem(correct)\n",
    "lower = mu - 1.96 * stderr\n",
    "upper = mu + 1.96 * stderr\n",
    "\n",
    "print(\"P(X > 3) = {}\".format(sum(correct) / n))\n",
    "print(\"95% CI = ({}, {})\".format(lower, upper))"
   ]
  },
  {
   "cell_type": "markdown",
   "metadata": {},
   "source": [
    "## Part 2"
   ]
  },
  {
   "cell_type": "code",
   "execution_count": 15,
   "metadata": {},
   "outputs": [
    {
     "name": "stdout",
     "output_type": "stream",
     "text": [
      "P(X > 3) = 0.001357722708441344\n",
      "95% CI = (0.0013384438517092742, 0.001377001565173386)\n"
     ]
    }
   ],
   "source": [
    "np.random.seed(30)\n",
    "\n",
    "def f(x):\n",
    "    '''\n",
    "    Returns the values for the standard \n",
    "    normal distribution evaluated at x.\n",
    "    '''\n",
    "    \n",
    "    return np.exp(-x**2 / 2) / np.sqrt(2 * np.pi)\n",
    "\n",
    "def g(x):\n",
    "    '''\n",
    "    Returns the values for the normal distribution\n",
    "    N(4, 1) evaluated at x.\n",
    "    '''\n",
    "    \n",
    "    return np.exp(-(x - 4)**2 / 2) / np.sqrt(2 * np.pi)    \n",
    "\n",
    "#Using n i.i.d. N(4, 1) samples\n",
    "samples = np.random.normal(4, 1, n)\n",
    "correct = h(samples) * f(samples) / g(samples)\n",
    "\n",
    "#Find confidence interval\n",
    "mu = np.mean(correct)\n",
    "stderr = sem(correct)\n",
    "lower = mu - 1.96 * stderr\n",
    "upper = mu + 1.96 * stderr\n",
    "\n",
    "#Output\n",
    "print(\"P(X > 3) = {}\".format(sum(correct) / n))\n",
    "print(\"95% CI = ({}, {})\".format(lower, upper))"
   ]
  },
  {
   "cell_type": "markdown",
   "metadata": {},
   "source": [
    "The value from part 2 is much closer to the exact value of 0.00135, and the 95% confidence interval is much tighter around this value."
   ]
  },
  {
   "cell_type": "markdown",
   "metadata": {},
   "source": [
    "\n",
    "# Q3.1"
   ]
  },
  {
   "cell_type": "code",
   "execution_count": 16,
   "metadata": {},
   "outputs": [
    {
     "name": "stdout",
     "output_type": "stream",
     "text": [
      "Mean = 6.1373848626151375\n"
     ]
    }
   ],
   "source": [
    "np.random.seed(30)\n",
    "\n",
    "def Energy(x):\n",
    "    '''\n",
    "    Returns the energy of state x as\n",
    "    defined in the problem.\n",
    "    '''\n",
    "    \n",
    "    return (x - 3)**2\n",
    "\n",
    "def h(x, y):\n",
    "    '''\n",
    "    Returns the acceptance probability\n",
    "    used for the Metropolis Algorithm.\n",
    "    '''\n",
    "\n",
    "    return min(1, pdf[y - 1] / pdf[x - 1])\n",
    "\n",
    "def Z(x):\n",
    "    '''\n",
    "    Calculates the partition function for\n",
    "    the Boltzmann distribution.\n",
    "    '''\n",
    "    \n",
    "    tot = 0\n",
    "\n",
    "    for i in range(len(x)):\n",
    "        tot += np.exp(-Energy(x[i] * beta))\n",
    "        \n",
    "    return tot\n",
    "\n",
    "def r(E):\n",
    "    '''\n",
    "    Returns the radiation of energy state\n",
    "    E as defined in the problem.\n",
    "    '''\n",
    "    \n",
    "    return E**4\n",
    "\n",
    "#Setup\n",
    "beta = 1\n",
    "state_space = np.arange(1, 9)\n",
    "n = int(10E5)\n",
    "z = Z(state_space)\n",
    "\n",
    "#Get Boltzmann pdf\n",
    "pdf = []\n",
    "for x in state_space:\n",
    "    pdf.append(np.exp(-Energy(x) * beta) / z)\n",
    "\n",
    "#Pick random value to start\n",
    "X = np.random.choice(state_space, replace = True, p = pdf)\n",
    "r_vals = [r(Energy(X))]\n",
    "\n",
    "#Run n simulations, drawing from Boltzmann pdf\n",
    "for i in range(n):\n",
    "    Y = np.random.randint(1, 9)\n",
    "\n",
    "    #Draw from uniform\n",
    "    U = np.random.uniform()\n",
    "    \n",
    "    #Accept or reject\n",
    "    if U < h(X, Y):\n",
    "        X = Y\n",
    "\n",
    "    r_vals.append(r(Energy(X)))\n",
    "\n",
    "print(\"Mean = {}\".format(np.mean(r_vals)))"
   ]
  },
  {
   "cell_type": "markdown",
   "metadata": {},
   "source": [
    "# Q3.5"
   ]
  },
  {
   "cell_type": "markdown",
   "metadata": {},
   "source": [
    "## Part A - Minimal Neighborhood System"
   ]
  },
  {
   "cell_type": "code",
   "execution_count": 17,
   "metadata": {},
   "outputs": [
    {
     "name": "stdout",
     "output_type": "stream",
     "text": [
      "Variance_100 = 1.0656527500000001\n",
      "Variance_200 = 0.6747252275000001\n",
      "Variance_1000 = 0.13881304749999995\n"
     ]
    },
    {
     "data": {
      "image/png": "[encoded data removed]",
      "text/plain": [
       "<Figure size 432x288 with 1 Axes>"
      ]
     },
     "metadata": {
      "needs_background": "light"
     },
     "output_type": "display_data"
    }
   ],
   "source": [
    "import matplotlib.pyplot as plt\n",
    "np.random.seed(30)\n",
    "\n",
    "def h(x, y):\n",
    "    '''\n",
    "    Returns the acceptance probability\n",
    "    used for the Metropolis Algorithm.\n",
    "    '''\n",
    "    \n",
    "    return min(1, f[y - 1] / f[x - 1])\n",
    "\n",
    "#Setup - minimal neighborhood\n",
    "G = [[0.5, 0.5, 0, 0, 0, 0, 0, 0, 0, 0, 0],\n",
    "     [0.5, 0, 0.5, 0, 0, 0, 0, 0, 0, 0, 0],\n",
    "     [0, 0.5, 0, 0.5, 0, 0, 0, 0, 0, 0, 0],\n",
    "     [0, 0, 0.5, 0, 0.5, 0, 0, 0, 0, 0, 0],\n",
    "     [0, 0, 0, 0.5, 0, 0.5, 0, 0, 0, 0, 0],\n",
    "     [0, 0, 0, 0, 0.5, 0, 0.5, 0, 0, 0, 0],\n",
    "     [0, 0, 0, 0, 0, 0.5, 0, 0.5, 0, 0, 0],\n",
    "     [0, 0, 0, 0, 0, 0, 0.5, 0, 0.5, 0, 0],\n",
    "     [0, 0, 0, 0, 0, 0, 0, 0.5, 0, 0.5, 0],\n",
    "     [0, 0, 0, 0, 0, 0, 0, 0, 0.5, 0, 0.5],\n",
    "     [0, 0, 0, 0, 0, 0, 0, 0, 0, 0.5, 0.5]]\n",
    "nums = [2, 3, 4, 5, 6, 7, 8, 9, 10, 11, 12]\n",
    "f = [0, 1, 2, 3, 4, 5, 6, 5, 4, 3, 2, 1]\n",
    "linetypes = [\"-\", \"--\", \"-.\"]\n",
    "N = [100, 200, 1000]\n",
    "instances = 100\n",
    "\n",
    "#Iterate for different N, also set varying linestyles\n",
    "for line, n in enumerate(N):\n",
    "    avg = []\n",
    "\n",
    "    #Run 100 instances\n",
    "    for i in range(0, instances):\n",
    "        #Initialize X array\n",
    "        X = 12\n",
    "        X_vals = [X]\n",
    "\n",
    "        #Run for n trials\n",
    "        for j in range(0, n):\n",
    "            Y = np.random.choice(nums, replace = True, p = G[X - 2])\n",
    "            U = np.random.uniform()\n",
    "            \n",
    "            #Accept or reject\n",
    "            if U < h(X, Y):\n",
    "                X = Y\n",
    "\n",
    "            X_vals.append(X)\n",
    "        avg.append(sum(X_vals) / n)\n",
    "    \n",
    "    #Histogram and variance for each scenario\n",
    "    plt.hist(avg, histtype = \"step\", label = \"{}\".format(n), \n",
    "             linestyle = linetypes[line])\n",
    "    print(\"Variance_{} = {}\".format(n, np.var(avg)))\n",
    "    \n",
    "#Plot\n",
    "plt.legend()\n",
    "plt.show()"
   ]
  },
  {
   "cell_type": "markdown",
   "metadata": {},
   "source": [
    "## Part 2 - Maximal Neighborhood System"
   ]
  },
  {
   "cell_type": "code",
   "execution_count": 18,
   "metadata": {},
   "outputs": [
    {
     "name": "stdout",
     "output_type": "stream",
     "text": [
      "Variance_100 = 0.059044559999999996\n",
      "Variance_200 = 0.05398671\n",
      "Variance_1000 = 0.038360564122222225\n"
     ]
    },
    {
     "data": {
      "image/png": "[encoded data removed]",
      "text/plain": [
       "<Figure size 432x288 with 1 Axes>"
      ]
     },
     "metadata": {
      "needs_background": "light"
     },
     "output_type": "display_data"
    }
   ],
   "source": [
    "np.random.seed(30)\n",
    "\n",
    "#Setup - maximal neighborhood\n",
    "G = [[1/11, 1/11, 1/11, 1/11, 1/11, 1/11, 1/11, 1/11, 1/11, 1/11, 1/11],\n",
    "     [1/11, 1/11, 1/11, 1/11, 1/11, 1/11, 1/11, 1/11, 1/11, 1/11, 1/11],\n",
    "     [1/11, 1/11, 1/11, 1/11, 1/11, 1/11, 1/11, 1/11, 1/11, 1/11, 1/11],\n",
    "     [1/11, 1/11, 1/11, 1/11, 1/11, 1/11, 1/11, 1/11, 1/11, 1/11, 1/11],\n",
    "     [1/11, 1/11, 1/11, 1/11, 1/11, 1/11, 1/11, 1/11, 1/11, 1/11, 1/11],\n",
    "     [1/11, 1/11, 1/11, 1/11, 1/11, 1/11, 1/11, 1/11, 1/11, 1/11, 1/11],\n",
    "     [1/11, 1/11, 1/11, 1/11, 1/11, 1/11, 1/11, 1/11, 1/11, 1/11, 1/11],\n",
    "     [1/11, 1/11, 1/11, 1/11, 1/11, 1/11, 1/11, 1/11, 1/11, 1/11, 1/11],\n",
    "     [1/11, 1/11, 1/11, 1/11, 1/11, 1/11, 1/11, 1/11, 1/11, 1/11, 1/11],\n",
    "     [1/11, 1/11, 1/11, 1/11, 1/11, 1/11, 1/11, 1/11, 1/11, 1/11, 1/11],\n",
    "     [1/11, 1/11, 1/11, 1/11, 1/11, 1/11, 1/11, 1/11, 1/11, 1/11, 1/11]]\n",
    "N = [100, 200, 1000]\n",
    "avg = []\n",
    "\n",
    "#Iterate for different N, also set varying linestyles\n",
    "for line, n in enumerate(N):\n",
    "    #Run 100 instances\n",
    "    for i in range(0, instances):\n",
    "        #Initialize X array\n",
    "        X_vals = []\n",
    "        X = 12\n",
    "\n",
    "        #Run for N trials\n",
    "        for j in range(0, n):\n",
    "            Y = np.random.randint(2, 13)\n",
    "            U = np.random.uniform()\n",
    "\n",
    "            if U < h(X, Y):\n",
    "                X = Y\n",
    "\n",
    "            X_vals.append(X)\n",
    "        avg.append(sum(X_vals) / n)\n",
    "        \n",
    "    #Histogram and variance for each scenario\n",
    "    plt.hist(avg, histtype = \"step\", label = \"{}\".format(n), \n",
    "             linestyle = linetypes[line])\n",
    "    print(\"Variance_{} = {}\".format(n, np.var(avg)))\n",
    "    \n",
    "#Plot\n",
    "plt.legend()\n",
    "plt.show()"
   ]
  },
  {
   "cell_type": "markdown",
   "metadata": {},
   "source": [
    "Both the minimal and maximal neighborhood systems seem to converge to an average of about 7. The minimal system starts out with large spread and variance but continues to converge to be more tightly bound around the average. The maximal spread stays fairly consistent, even when increasing N. The variances for the maximal are much less than the variances for the minimal system at first, but they stay relatively consistent. The variances for the minimal eventually become smaller as N increases."
   ]
  },
  {
   "cell_type": "markdown",
   "metadata": {},
   "source": [
    "# Q3.6"
   ]
  },
  {
   "cell_type": "code",
   "execution_count": 19,
   "metadata": {},
   "outputs": [
    {
     "name": "stdout",
     "output_type": "stream",
     "text": [
      "Acceptance rate at x0=1: 0.8667686676866768\n",
      "Acceptance rate at x0=10: 0.8665336653366533\n",
      "Acceptance rate at x0=100: 0.8657653243199098\n",
      "Acceptance rate at x0=500: 0.8659486594865948\n"
     ]
    },
    {
     "data": {
      "image/png": "[encoded data removed]",
      "text/plain": [
       "<Figure size 432x288 with 1 Axes>"
      ]
     },
     "metadata": {
      "needs_background": "light"
     },
     "output_type": "display_data"
    }
   ],
   "source": [
    "np.random.seed(30)\n",
    "\n",
    "def h(x, y):\n",
    "    '''\n",
    "    Returns the acceptance probability\n",
    "    used for the Metropolis Algorithm.\n",
    "    '''\n",
    "    return min(1, f(y) / f(x))\n",
    "\n",
    "def f(x):\n",
    "    '''\n",
    "    Evaluates the function cx^2 * exp(-x)\n",
    "    '''\n",
    "    return 0.5 * x**2 * np.exp(-x)\n",
    "\n",
    "#Setup\n",
    "n = int(10E4)\n",
    "start = [1, 10, 100, 500]\n",
    "accept = 0\n",
    "reject = 0\n",
    "\n",
    "for s in start:\n",
    "    X = np.zeros(n)\n",
    "    X[0] = s\n",
    "\n",
    "    #Run n trials\n",
    "    for i in range(1, n):\n",
    "        #Sample on [x-delta, x+delta], here delta = 1\n",
    "        x = X[i - 1]\n",
    "        y = x + np.random.uniform(-1, 1)\n",
    "\n",
    "        #Draw uniform\n",
    "        U = np.random.uniform()\n",
    "\n",
    "        #Accept or reject, force positive values\n",
    "        if U < h(x, y) and y > 0:\n",
    "            accept += 1\n",
    "            x = y\n",
    "        else:\n",
    "            reject += 1\n",
    "\n",
    "        X[i] = x\n",
    "        \n",
    "    plt.hist(X, density = True, bins = np.arange(0, 13, 0.2), \n",
    "             label = \"Estimated - x0={}\".format(s), \n",
    "             color = (0.827, 0.827, 0.827))\n",
    "    print(\"Acceptance rate at x0={}: {}\".format(s, \n",
    "          accept / (accept + reject)))\n",
    "\n",
    "#Plot pdf vs our samples\n",
    "x = np.linspace(0, 15)\n",
    "plt.plot(x, f(x), label = \"True\", c = \"k\")\n",
    "plt.legend()\n",
    "plt.show()"
   ]
  },
  {
   "cell_type": "markdown",
   "metadata": {},
   "source": [
    "The pdf matches well for all points. The start point of the algorithm does not seem to affect the results very much. The acceptance vs rejection rate also does not vary much between start points. The efficiency seems to hover around 86.5% acceptance rate."
   ]
  }
 ],
 "metadata": {
  "kernelspec": {
   "display_name": "Python 3",
   "language": "python",
   "name": "python3"
  },
  "language_info": {
   "codemirror_mode": {
    "name": "ipython",
    "version": 3
   },
   "file_extension": ".py",
   "mimetype": "text/x-python",
   "name": "python",
   "nbconvert_exporter": "python",
   "pygments_lexer": "ipython3",
   "version": "3.7.3"
  }
 },
 "nbformat": 4,
 "nbformat_minor": 2
}
