{
 "cells": [
  {
   "cell_type": "markdown",
   "metadata": {},
   "source": [
    "# Homework #2\n",
    "\n",
    "Name: Salvatore Zerbo\n",
    "\n",
    "Course: Math 483\n",
    "\n",
    "Date: 04/26/2019"
   ]
  },
  {
   "cell_type": "markdown",
   "metadata": {},
   "source": [
    "# Q9"
   ]
  },
  {
   "cell_type": "code",
   "execution_count": 55,
   "metadata": {},
   "outputs": [
    {
     "data": {
      "image/png": "[encoded data removed]",
      "text/plain": [
       "<Figure size 432x288 with 1 Axes>"
      ]
     },
     "metadata": {
      "needs_background": "light"
     },
     "output_type": "display_data"
    },
    {
     "data": {
      "image/png": "[encoded data removed]",
      "text/plain": [
       "<Figure size 432x288 with 1 Axes>"
      ]
     },
     "metadata": {
      "needs_background": "light"
     },
     "output_type": "display_data"
    }
   ],
   "source": [
    "import numpy as np\n",
    "import matplotlib.pyplot as plt\n",
    "np.random.seed(30)\n",
    "\n",
    "def run_trials(N, num_trials):\n",
    "    '''\n",
    "    Runs the desired number of trials and\n",
    "    chooses N x_i for each trial. Then\n",
    "    calculates the min and plots the histogram.\n",
    "    '''\n",
    "    mins = []\n",
    "    \n",
    "    #Run many trials\n",
    "    for i in range(int(num_trials)):\n",
    "        #Reset x array\n",
    "        x = []\n",
    "\n",
    "        #Choose x_i for i = 1,...,10\n",
    "        for j in range(0, N):\n",
    "            x.append(np.random.uniform())\n",
    "\n",
    "        #Find minimum\n",
    "        mins.append(min(x))\n",
    "\n",
    "    plt.hist(mins, bins = np.arange(min(mins), max(mins) + 0.01, 0.01), \\\n",
    "             histtype = \"step\", label = \"N = {}\".format(N), density = True)\n",
    "\n",
    "#First part\n",
    "run_trials(10, 1E5)\n",
    "plt.xlabel(\"min($x_{i}$)\")\n",
    "plt.show()\n",
    "\n",
    "#Run trials increasing n\n",
    "for n in [10, 30, 50, 70]:\n",
    "    run_trials(n, 1E5)\n",
    "                   \n",
    "plt.xlabel(\"min($x_{i}$)\")\n",
    "plt.legend()\n",
    "plt.show()"
   ]
  },
  {
   "cell_type": "markdown",
   "metadata": {},
   "source": [
    "By increasing N, the mean of the distribution becomes more strongly centered towards 0. The reason this occurs is because as you choose more $x_{i}$, it becomes increasingly likely that you draw a value close to 0, so the minimum of $x_{i}$ will tend to decrease with more samples."
   ]
  },
  {
   "cell_type": "markdown",
   "metadata": {},
   "source": [
    "# Q10"
   ]
  },
  {
   "cell_type": "markdown",
   "metadata": {},
   "source": [
    "If $min(X_{i}) > t$, then that means the smallest element of the set $X_{i}$ is greater than t. Since the smallest element is greater than t, that means every other element of $X_{i}$ must be greater than t. Then the probability that $min(X_{i}) > t$ would be equal to $Pr(X_{1} > t) * Pr(X_{2} > t) * ... * Pr(X_{n}) > t$ since $X_{i}$ are independent. In other words, $Pr(X_{i} > t) = \\prod_{i} Pr(X_{i} > t)$.\n",
    "\n",
    "This means that the CDF will be:\n",
    "\\begin{equation*}\n",
    "F(t) = \\begin{cases}\n",
    "  (1-t)^n : x ∈ [0, 1)\\\\\n",
    "  0 \\ \\ \\ \\ \\ \\ \\ \\ \\ \\ : t \\geq 1\\\\\n",
    "  1 \\ \\ \\ \\ \\ \\ \\ \\ \\ \\ : t < 0\\\\\n",
    "\\end{cases}\n",
    "\\end{equation*}\n",
    "\n",
    "Then the pdf will be:\n",
    "\n",
    "$\\frac{dF}{dt} = f(t) = -n(1 - t)^{n-1}$"
   ]
  },
  {
   "cell_type": "markdown",
   "metadata": {},
   "source": [
    "# Q15"
   ]
  },
  {
   "cell_type": "markdown",
   "metadata": {},
   "source": [
    "1) Generate a random number u~U(0, 1)\n",
    "\n",
    "2) Find the inverse of the CDF:\n",
    "\n",
    "The distribution has pdf $f(x) = nx^{n-1}$. Then the CDF will be $\\int_{0}^{t} nx^{n-1} dx= t^n$ or:\n",
    "\\begin{equation*}\n",
    "F(t) = \\begin{cases}\n",
    "  t^n : x ∈ [0, 1)\\\\\n",
    "  0 \\ \\ \\ \\ \\ \\ \\ \\ \\ \\ : t < 0\\\\\n",
    "  1 \\ \\ \\ \\ \\ \\ \\ \\ \\ \\ : t \\geq 1\\\\\n",
    "\\end{cases}\n",
    "\\end{equation*}\n",
    "\n",
    "Then the inverse of the CDF is:\n",
    "\n",
    "$F(F^{-1}(u)) = u$\n",
    "\n",
    "$[F^{-1}(u)]^{n} = u$\n",
    "\n",
    "$n ln(F^{-1}(u)) = ln(u)$\n",
    "\n",
    "$ln(F^{-1}(u)) = ln(u^{1/n})$\n",
    "\n",
    "$F^{-1}(u) = u^{1/n}$\n",
    "\n",
    "3) Compute $X = F^{-1}(u)$. X will have a pdf $f(x) = nx^{n-1}$ on the interval [0,1]"
   ]
  },
  {
   "cell_type": "markdown",
   "metadata": {},
   "source": [
    "# Q19"
   ]
  },
  {
   "cell_type": "code",
   "execution_count": 115,
   "metadata": {},
   "outputs": [
    {
     "name": "stdout",
     "output_type": "stream",
     "text": [
      "Doubling time for single bacterium: 20.098049357642946\n",
      "Doubling time for colony: 13.826660417749158\n",
      "Average number of generations: 15.40677\n"
     ]
    }
   ],
   "source": [
    "np.random.seed(30)\n",
    "\n",
    "#Setup\n",
    "t = 60              #seconds\n",
    "lamb = 0.05         #per minute\n",
    "gens = []           #count/60 minutes\n",
    "doubling_time = []  #time for colony\n",
    "sing_doub_time = [] #times for single bacterium\n",
    "\n",
    "#Run 10E4 trials\n",
    "for n in range(int(10E4)):\n",
    "    #Reset initial state\n",
    "    gen = 0\n",
    "    num_bact = 1                               #number of bacteria\n",
    "    divide = [np.random.exponential(1 / lamb)] #divide time for 1 bacteria\n",
    "    num_prev = 1                               #check doubling time\n",
    "    time_prev = 0                              #time last doubled\n",
    "    \n",
    "    #Keep track of doubling time for single bacterium\n",
    "    sing_doub_time.append(divide[0])\n",
    "    \n",
    "    #Run for 60 minutes\n",
    "    for i in range(t):         \n",
    "        #Check to see if time is greater than each bacteria's divide time\n",
    "        for j in range(len(divide)):  \n",
    "            if i > divide[j]:\n",
    "                #Divide bacteria\n",
    "                num_bact += 1\n",
    "                gen += 1\n",
    "                \n",
    "                #Check if doubled\n",
    "                if num_bact == num_prev * 2:\n",
    "                    #Don't count doubling from 1->2\n",
    "                    if num_bact > 2:\n",
    "                        doubling_time.append(divide[j] - time_prev - 1)\n",
    "                    \n",
    "                    #Set to current time and number\n",
    "                    num_prev = num_bact\n",
    "                    time_prev = divide[j]\n",
    "                \n",
    "                #Remove current division time since it's passed\n",
    "                divide.remove(divide[j])\n",
    "\n",
    "                #Time until next divide for the 2 new bacteria\n",
    "                for k in range(2):\n",
    "                    divide.append(i + np.random.exponential(1 / lamb))\n",
    "    \n",
    "    #Keep track of number of generations for each simulation\n",
    "    gens.append(gen)\n",
    "\n",
    "#Output\n",
    "print(\"Doubling time for single bacterium: {}\".format(np.mean(sing_doub_time)))\n",
    "print(\"Doubling time for colony: {}\".format(np.mean(doubling_time)))\n",
    "print(\"Average number of generations: {}\".format(np.mean(gens)))"
   ]
  },
  {
   "cell_type": "markdown",
   "metadata": {},
   "source": [
    "The theoretical doubling time for a single bacterium should be $t = \\frac{1}{\\lambda} = 20$ minutes.\n",
    "The theoretical doubling time for a colony should be $t = \\frac{ln(2)}{\\lambda} = 13.86$ minutes."
   ]
  }
 ],
 "metadata": {
  "kernelspec": {
   "display_name": "Python 3",
   "language": "python",
   "name": "python3"
  },
  "language_info": {
   "codemirror_mode": {
    "name": "ipython",
    "version": 3
   },
   "file_extension": ".py",
   "mimetype": "text/x-python",
   "name": "python",
   "nbconvert_exporter": "python",
   "pygments_lexer": "ipython3",
   "version": "3.7.3"
  }
 },
 "nbformat": 4,
 "nbformat_minor": 2
}
