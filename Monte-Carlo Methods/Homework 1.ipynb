{
 "cells": [
  {
   "cell_type": "markdown",
   "metadata": {},
   "source": [
    "# Homework #1\n",
    "\n",
    "Name: Salvatore Zerbo\n",
    "\n",
    "Course: Math 483\n",
    "\n",
    "Date: 04/12/2019"
   ]
  },
  {
   "cell_type": "markdown",
   "metadata": {},
   "source": [
    "# Q4"
   ]
  },
  {
   "cell_type": "markdown",
   "metadata": {},
   "source": [
    "For a reward function $r(x) = \\frac{1}{x}$ for $x = 2, ..., 12$, the expectation value can be calculated by drawing two uniform dice rolls, x and y, on $[1, 6]$ and summing them. Taking the average of $r(x + y)$ gives the expected value for the reward function."
   ]
  },
  {
   "cell_type": "code",
   "execution_count": 49,
   "metadata": {},
   "outputs": [
    {
     "name": "stdout",
     "output_type": "stream",
     "text": [
      "Expected value of r(x): 0.16783244484844137\n"
     ]
    }
   ],
   "source": [
    "#Import and seed\n",
    "from random import randint, seed\n",
    "seed(30)\n",
    "\n",
    "#Setup\n",
    "n_trials = 10**7\n",
    "r = 0\n",
    "\n",
    "#Simulate 2 dice rolls and calculate r(x+y)\n",
    "for i in range(n_trials):\n",
    "    x = randint(1, 6)\n",
    "    y = randint(1, 6)\n",
    "\n",
    "    r += 1 / (x + y)\n",
    "    \n",
    "#Output expected value\n",
    "print(\"Expected value of r(x):\", r / n_trials)"
   ]
  },
  {
   "cell_type": "markdown",
   "metadata": {},
   "source": [
    "After $10^{7}$ trials, the simulation approximates the solution to 4 decimal places, i.e. $E[r(x)] = 0.1678$"
   ]
  },
  {
   "cell_type": "markdown",
   "metadata": {},
   "source": [
    "# Q8"
   ]
  },
  {
   "cell_type": "markdown",
   "metadata": {},
   "source": [
    "The random walk can be calculated through a biased coin flip. Starting at the origin, flipping heads can be set as walking 1 unit the right direction, and flipping tails can be set as walking 1 unit in the left direction. The final position is then the sum of those results."
   ]
  },
  {
   "cell_type": "markdown",
   "metadata": {},
   "source": [
    "## Part A"
   ]
  },
  {
   "cell_type": "code",
   "execution_count": 50,
   "metadata": {},
   "outputs": [
    {
     "name": "stdout",
     "output_type": "stream",
     "text": [
      "Final position: 8\n"
     ]
    },
    {
     "data": {
      "image/png": "[encoded data removed]",
      "text/plain": [
       "<Figure size 432x288 with 1 Axes>"
      ]
     },
     "metadata": {
      "needs_background": "light"
     },
     "output_type": "display_data"
    }
   ],
   "source": [
    "#Import and seed\n",
    "import numpy as np\n",
    "import matplotlib.pyplot as plt\n",
    "np.random.seed(30)\n",
    "\n",
    "#Setup\n",
    "n_steps = 30\n",
    "P = [0.6, 0.4]\n",
    "possibilities = [\"Heads\", \"Tails\"]\n",
    "\n",
    "def random_walk(n_steps):\n",
    "    '''\n",
    "    Performs a random walk based on the result of\n",
    "    a biased coin flip (60% heads, 40% tails). \n",
    "    Heads walks right 1 unit and tails walks left \n",
    "    1 unit.\n",
    "    '''\n",
    "    #Intialize arrays\n",
    "    pos = [0]\n",
    "    n = [0]\n",
    "\n",
    "    #Flip coin and take steps - right = +1, left = -1\n",
    "    for i in range(n_steps):\n",
    "        result = np.random.choice(possibilities, replace = True, p = P)\n",
    "\n",
    "        #Move based on results\n",
    "        if result == \"Heads\":\n",
    "            pos.append(pos[-1] + 1)\n",
    "        elif result == \"Tails\":\n",
    "            pos.append(pos[-1] - 1)\n",
    "        n.append(n[-1] + 1)\n",
    "        \n",
    "    return n, pos\n",
    "\n",
    "n, pos = random_walk(n_steps)\n",
    "print(\"Final position:\", pos[-1])\n",
    "\n",
    "#Plot details\n",
    "plt.xlabel(\"Step\")\n",
    "plt.ylabel(\"Position\")\n",
    "plt.plot(n, pos)\n",
    "plt.show()"
   ]
  },
  {
   "cell_type": "markdown",
   "metadata": {},
   "source": [
    "## Part B, C, D"
   ]
  },
  {
   "cell_type": "code",
   "execution_count": 54,
   "metadata": {
    "scrolled": true
   },
   "outputs": [
    {
     "data": {
      "image/png": "[encoded data removed]",
      "text/plain": [
       "<Figure size 432x288 with 1 Axes>"
      ]
     },
     "metadata": {
      "needs_background": "light"
     },
     "output_type": "display_data"
    },
    {
     "name": "stdout",
     "output_type": "stream",
     "text": [
      "Sample mean: 5.69\n",
      "Sample variance: 30.923900000000003\n"
     ]
    }
   ],
   "source": [
    "np.random.seed(30)\n",
    "\n",
    "#Setup\n",
    "n_walks = 200\n",
    "positions = []\n",
    "\n",
    "#Run desire number of random walks\n",
    "for i in range(n_walks):\n",
    "    n, pos = random_walk(n_steps)\n",
    "    positions.append(pos[-1])\n",
    "\n",
    "#Plot details\n",
    "plt.xlabel(\"Final Positions\")\n",
    "plt.hist(positions)\n",
    "plt.show()\n",
    "\n",
    "print(\"Sample mean:\", np.mean(positions))\n",
    "print(\"Sample variance:\", np.var(positions))"
   ]
  },
  {
   "cell_type": "markdown",
   "metadata": {},
   "source": [
    "You can see the central limit theorm here, as the distribution tends to a gaussian as the number of random walks is increased.\n",
    "\n",
    "The average for each step is $\\mu = \\sum\\limits_{i=1}^{n} x_{i}*p(x_{i}) = (0.6 * 1 + 0.4 * -1) = 0.2$\n",
    "\n",
    "The average final position should be $\\bar x = 30*\\mu = 30*(0.6 * 1 + 0.4 * -1) = 6$\n",
    "\n",
    "The variance of the final position should be $\\sigma^{2} = 30*\\sum\\limits_{i=1}^{n} p(x_{i})*(x_{i} - \\mu)^{2} = 30*[0.6*(1 - 0.2)^{2} + 0.4*(-1 - 0.2)^{2}]$ = 28.8"
   ]
  },
  {
   "cell_type": "markdown",
   "metadata": {},
   "source": [
    "# Q13"
   ]
  },
  {
   "cell_type": "markdown",
   "metadata": {},
   "source": [
    "To find the probability of a true positive (test says HIV when person has HIV), we first choose a person, who will have HIV 3% of the time. Then to get the test results, we choose the results to match the person's status 98% of the time. We can then find the true positive probability by taking into account the number of true positives and the total number of times the test states positive."
   ]
  },
  {
   "cell_type": "code",
   "execution_count": 52,
   "metadata": {},
   "outputs": [
    {
     "name": "stdout",
     "output_type": "stream",
     "text": [
      "Probability true positive: 0.6126571840857555\n"
     ]
    }
   ],
   "source": [
    "np.random.seed(30)\n",
    "\n",
    "#Setup\n",
    "n_iters = 10**5\n",
    "P_pop = [0.97, 0.03]\n",
    "P_test = [0.98, 0.02]\n",
    "pop_possibilities = [\"Clean\", \"HIV\"]\n",
    "num_true_pos = 0\n",
    "num_pos = 0\n",
    "\n",
    "#Perform n experiments\n",
    "for i in range(n_iters):\n",
    "    #Choose random person\n",
    "    person = np.random.choice(pop_possibilities, replace = True, p = P_pop)\n",
    "    \n",
    "    #Set person's status to 98% chance of selecting\n",
    "    test_possibilities = [person, np.setdiff1d(pop_possibilities, person)]\n",
    "    \n",
    "    #Run test\n",
    "    test_results = np.random.choice(test_possibilities, replace = True, p = P_test)\n",
    "    \n",
    "    #Count\n",
    "    if test_results == \"HIV\":\n",
    "        num_pos += 1\n",
    "    if test_results == \"HIV\" and person == \"HIV\":\n",
    "        num_true_pos += 1\n",
    "\n",
    "print(\"Probability true positive:\", num_true_pos / num_pos)\n",
    "    "
   ]
  },
  {
   "cell_type": "markdown",
   "metadata": {},
   "source": [
    "About 61% of the time will the test say a person has HIV when they actually do. The other 40% of the time, it will say they have HIV when they don't."
   ]
  },
  {
   "cell_type": "markdown",
   "metadata": {},
   "source": [
    "# Q24"
   ]
  },
  {
   "cell_type": "markdown",
   "metadata": {},
   "source": [
    "The Monty Hall problem can be simulated by first randomly choosing a door that has the car and a door that the contestant selects. Then the host randomly chooses a door that the contestant hasn't selected and has a sheep behind it. The contestant then randomly chooses to switch to the other door or not. The probabilities are then the number of times the contestant won divided by the total number of times for each scenario (switched or didn't switch)."
   ]
  },
  {
   "cell_type": "code",
   "execution_count": 53,
   "metadata": {},
   "outputs": [
    {
     "name": "stdout",
     "output_type": "stream",
     "text": [
      "Probability of winning if no change: 0.3336644368808047\n",
      "Probability of winning if switching: 0.6670109055684645\n"
     ]
    }
   ],
   "source": [
    "from random import choice\n",
    "seed(30)\n",
    "\n",
    "#Setup\n",
    "n_iters = 10**6\n",
    "wins_nc = 0\n",
    "wins_switch = 0\n",
    "counts_nc = 0\n",
    "counts_switch = 0\n",
    "doors = [\"A\", \"B\", \"C\"]\n",
    "\n",
    "#Perform n experiments\n",
    "for i in range(n_iters):\n",
    "    #Initial choice\n",
    "    win = choice(doors)\n",
    "    selected = choice(doors)\n",
    "\n",
    "    #Get hosts choice - not open car door or contestant's door\n",
    "    host = np.setdiff1d(np.setdiff1d(doors, win), selected)\n",
    "    \n",
    "    #If both doors have sheep, choose randomly between them\n",
    "    if len(host) > 1:\n",
    "        host = choice(host)\n",
    "\n",
    "    #Remove host's door from selections\n",
    "    remaining_doors = np.setdiff1d(doors, host)\n",
    "\n",
    "    #Randomly choose to switch or not\n",
    "    selected_new = choice(remaining_doors)\n",
    "    \n",
    "    #Didn't switch and won\n",
    "    if selected_new == win and selected_new == selected:\n",
    "        wins_nc += 1\n",
    "        counts_nc += 1\n",
    "    #Didn't switch and lost\n",
    "    elif selected_new != win and selected_new == selected:\n",
    "        counts_nc += 1\n",
    "    #Switched and won\n",
    "    elif selected_new == win and selected_new != selected:\n",
    "        wins_switch += 1\n",
    "        counts_switch += 1\n",
    "    #Switched and lost\n",
    "    elif selected_new != win and selected_new != selected:\n",
    "        counts_switch += 1\n",
    "    \n",
    "#Calculate probabilities\n",
    "prob_nc = wins_nc / counts_nc\n",
    "prob_switch = wins_switch / counts_switch\n",
    "\n",
    "print(\"Probability of winning if no change:\", prob_nc)\n",
    "print(\"Probability of winning if switching:\", prob_switch)"
   ]
  },
  {
   "cell_type": "markdown",
   "metadata": {},
   "source": [
    "As expected the probability of winning after switching doors approaches $\\frac{2}{3}$ and the probability of winning after not switching doors approaches $\\frac{1}{3}$."
   ]
  }
 ],
 "metadata": {
  "kernelspec": {
   "display_name": "Python 3",
   "language": "python",
   "name": "python3"
  },
  "language_info": {
   "codemirror_mode": {
    "name": "ipython",
    "version": 3
   },
   "file_extension": ".py",
   "mimetype": "text/x-python",
   "name": "python",
   "nbconvert_exporter": "python",
   "pygments_lexer": "ipython3",
   "version": "3.7.3"
  },
  "toc": {
   "base_numbering": 1,
   "nav_menu": {},
   "number_sections": true,
   "sideBar": true,
   "skip_h1_title": false,
   "title_cell": "Table of Contents",
   "title_sidebar": "Contents",
   "toc_cell": false,
   "toc_position": {},
   "toc_section_display": true,
   "toc_window_display": false
  }
 },
 "nbformat": 4,
 "nbformat_minor": 2
}
